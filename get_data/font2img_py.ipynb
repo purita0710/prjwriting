{
  "nbformat": 4,
  "nbformat_minor": 0,
  "metadata": {
    "colab": {
      "name": "font2img.py",
      "provenance": [],
      "collapsed_sections": []
    },
    "kernelspec": {
      "name": "python3",
      "display_name": "Python 3"
    },
    "language_info": {
      "name": "python"
    }
  },
  "cells": [
    {
      "cell_type": "code",
      "execution_count": 1,
      "metadata": {
        "id": "BOh6F445ijMG"
      },
      "outputs": [],
      "source": [
        "import argparse\n",
        "import sys\n",
        "import glob\n",
        "import numpy as np\n",
        "import io, os\n",
        "from PIL import Image\n",
        "from PIL import ImageDraw\n",
        "from PIL import ImageFont\n",
        "import collections\n",
        "\n",
        "SRC_PATH = '/get_data/fonts/source'\n",
        "TRG_PATH = '/get_data/fonts/target'\n",
        "OUTPUT_PATH = './dataset-11172/'\n",
        "\n",
        "\n",
        "def draw_single_char(ch, font, canvas_size):\n",
        "\n",
        "    # Image.new(mode,size,color) 기본 형식 => 이미지를 새로 생성한다.\n",
        "    # mode => 'L' 8-bit pixels, black and white\n",
        "    # size => 튜플\n",
        "    # color\n",
        "    image = Image.new('L', (canvas_size, canvas_size), color=255)\n",
        "    drawing = ImageDraw.Draw(image)\n",
        "    w, h = drawing.textsize(ch, font=font)\n",
        "    drawing.text(\n",
        "        ((canvas_size-w)/2, (canvas_size-h)/2),\n",
        "        ch,\n",
        "        fill=(0),\n",
        "        font=font\n",
        "    )\n",
        "    flag = np.sum(np.array(image))\n",
        "    \n",
        "    # 해당 font에 글자가 없으면 return None\n",
        "    if flag == 255 * 128 * 128:\n",
        "        return None\n",
        "    \n",
        "    return image\n",
        "\n",
        "\n",
        "def draw_example(ch, src_font, dst_font, canvas_size):\n",
        "    dst_img = draw_single_char(ch, dst_font, canvas_size)\n",
        "    \n",
        "    # 해당 font에 글자가 없으면 return None\n",
        "    if not dst_img:\n",
        "        return None\n",
        "    \n",
        "    src_img = draw_single_char(ch, src_font, canvas_size)\n",
        "    example_img = Image.new(\"RGB\", (canvas_size * 2, canvas_size), (255, 255, 255)).convert('L')\n",
        "    example_img.paste(dst_img, (0, 0))\n",
        "    example_img.paste(src_img, (canvas_size, 0))   \n",
        "    return example_img\n",
        "\n",
        "\n",
        "def draw_handwriting(ch, src_font, canvas_size, dst_folder, label, count):\n",
        "    dst_path = dst_folder + \"%d_%04d\" % (label, count) + \".png\"\n",
        "    dst_img = Image.open(dst_path)\n",
        "    src_img = draw_single_char(ch, src_font, canvas_size)\n",
        "    example_img = Image.new(\"RGB\", (canvas_size * 2, canvas_size), (255, 255, 255)).convert('L')\n",
        "    example_img.paste(dst_img, (0, 0))\n",
        "    example_img.paste(src_img, (canvas_size, 0))\n",
        "    return example_img"
      ]
    }
  ]
}